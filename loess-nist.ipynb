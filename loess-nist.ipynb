{
 "cells": [
  {
   "cell_type": "markdown",
   "metadata": {},
   "source": [
    "# LOESS\n",
    "This notebook illustrates a Python/NumPy implementation of the LOESS locally-weighted linear regression as defined by [NIST](https://www.itl.nist.gov/div898/handbook/pmd/section1/dep/dep144.htm)"
   ]
  },
  {
   "cell_type": "code",
   "execution_count": null,
   "metadata": {},
   "outputs": [],
   "source": []
  },
  {
   "cell_type": "code",
   "execution_count": 14,
   "metadata": {},
   "outputs": [],
   "source": [
    "import numpy as np\n",
    "import matplotlib.pyplot as plt\n",
    "import math\n",
    "\n",
    "%matplotlib inline"
   ]
  },
  {
   "cell_type": "code",
   "execution_count": null,
   "metadata": {},
   "outputs": [],
   "source": []
  },
  {
   "cell_type": "code",
   "execution_count": 15,
   "metadata": {},
   "outputs": [],
   "source": [
    "def get_min_range(distances, window):\n",
    "    i_min = np.argmin(distances)\n",
    "    n = distances.shape[0]\n",
    "    i0 = max(i_min - 1, 0)\n",
    "    i1 = min(i_min + 1, n - 1)\n",
    "    while i1 - i0 + 1 < window:\n",
    "        if distances[i0] < distances[i1]:\n",
    "            if i0 > 0:\n",
    "                i0 -= 1\n",
    "            else:\n",
    "                i1 += 1\n",
    "        else:\n",
    "            if i1 < n - 1:\n",
    "                i1 += 1\n",
    "            else:\n",
    "                i1 -= 1\n",
    "    return np.array([i0, i1])"
   ]
  },
  {
   "cell_type": "code",
   "execution_count": 16,
   "metadata": {},
   "outputs": [],
   "source": [
    "def tricubic(x):\n",
    "    if x <= -1.0 or x >= 1.0:\n",
    "        return 0.0\n",
    "    else:\n",
    "        return 70.0 * math.pow(1.0 - math.pow(abs(x), 3), 3) / 81"
   ]
  },
  {
   "cell_type": "code",
   "execution_count": 17,
   "metadata": {},
   "outputs": [],
   "source": [
    "def get_max_distance(distances, rng):\n",
    "    return np.max(distances[rng[0]:rng[1] + 1])"
   ]
  },
  {
   "cell_type": "code",
   "execution_count": 18,
   "metadata": {},
   "outputs": [],
   "source": [
    "def get_weights(distances, min_range):\n",
    "    n = min_range[1] - min_range[0] + 1\n",
    "    max_distance = np.max(distances[min_range[0]:min_range[1] + 1])\n",
    "    weights = np.zeros(n)\n",
    "\n",
    "    for i in range(n):\n",
    "        weights[i] = tricubic(distances[min_range[0] + i] / max_distance)\n",
    "    return weights "
   ]
  },
  {
   "cell_type": "code",
   "execution_count": 19,
   "metadata": {},
   "outputs": [],
   "source": [
    "def normalize_array(array, min_val, max_val):\n",
    "    return (array - min_val) / (max_val - min_val)"
   ]
  },
  {
   "cell_type": "code",
   "execution_count": 20,
   "metadata": {},
   "outputs": [],
   "source": [
    "def normalize_x(value, min_x, max_x):\n",
    "    return (value - min_x) / (max_x - min_x)"
   ]
  },
  {
   "cell_type": "code",
   "execution_count": 21,
   "metadata": {},
   "outputs": [],
   "source": [
    "def denormalize_y(value, min_y, max_y):\n",
    "    return value * (max_y - min_y) + min_y"
   ]
  },
  {
   "cell_type": "code",
   "execution_count": 22,
   "metadata": {},
   "outputs": [],
   "source": [
    "def estimate(x, xx, yy, window):\n",
    "    # Normalize the x input and the xx array\n",
    "    min_x = np.min(xx)\n",
    "    max_x = np.max(xx)\n",
    "    n_xx = normalize_array(xx, min_x, max_x) \n",
    "    n_x = normalize_x(x, min_x, max_x)\n",
    "    \n",
    "    # Normalize the yy array\n",
    "    min_y = np.min(yy)\n",
    "    max_y = np.max(yy)\n",
    "    n_yy = normalize_array(yy, min_y, max_y)\n",
    "    \n",
    "    distances = np.abs(n_xx - n_x)\n",
    "    min_range = get_min_range(distances, window)\n",
    "    weights = get_weights(distances, min_range)\n",
    "\n",
    "    sum_weight = 0.0\n",
    "    sum_weight_x = 0.0\n",
    "    sum_weight_y = 0.0\n",
    "    sum_weight_x2 = 0.0\n",
    "    sum_weight_xy = 0.0\n",
    "\n",
    "    for i in range(min_range[0], min_range[1] + 1):\n",
    "        w = weights[i - min_range[0]]\n",
    "        sum_weight += w\n",
    "        sum_weight_x += n_xx[i] * w\n",
    "        sum_weight_y += n_yy[i] * w\n",
    "        sum_weight_x2 += n_xx[i] * n_xx[i] * w\n",
    "        sum_weight_xy += n_xx[i] * n_yy[i] * w\n",
    "\n",
    "    mean_x = sum_weight_x / sum_weight\n",
    "    mean_y = sum_weight_y / sum_weight\n",
    "\n",
    "    b = (sum_weight_xy - mean_x * mean_y * sum_weight) / (sum_weight_x2 - mean_x * mean_x * sum_weight)\n",
    "    a = mean_y - b * mean_x\n",
    "\n",
    "    y = a + b * n_x\n",
    "    return denormalize_y(y, min_y, max_y)"
   ]
  },
  {
   "cell_type": "code",
   "execution_count": null,
   "metadata": {},
   "outputs": [],
   "source": []
  },
  {
   "cell_type": "code",
   "execution_count": null,
   "metadata": {},
   "outputs": [],
   "source": []
  },
  {
   "cell_type": "code",
   "execution_count": null,
   "metadata": {},
   "outputs": [],
   "source": []
  },
  {
   "cell_type": "code",
   "execution_count": null,
   "metadata": {},
   "outputs": [],
   "source": []
  },
  {
   "cell_type": "code",
   "execution_count": null,
   "metadata": {},
   "outputs": [],
   "source": []
  },
  {
   "cell_type": "code",
   "execution_count": 23,
   "metadata": {},
   "outputs": [],
   "source": [
    "xx = np.array([0.5578196, 2.0217271, 2.5773252, 3.4140288, 4.3014084, 4.7448394, 5.1073781, \n",
    "               6.5411662, 6.7216176, 7.2600583, 8.1335874, 9.1224379, 11.9296663, 12.3797674,\n",
    "               13.2728619, 14.2767453, 15.3731026, 15.6476637, 18.5605355, 18.5866354, 18.7572812])"
   ]
  },
  {
   "cell_type": "code",
   "execution_count": 24,
   "metadata": {},
   "outputs": [],
   "source": [
    "yy = np.array([18.63654, 103.49646, 150.35391, 190.51031, 208.70115, 213.71135, 228.49353,\n",
    "               233.55387, 234.55054, 223.89225, 227.68339, 223.91982, 168.01999, 164.95750,\n",
    "               152.61107, 160.78742, 168.55567, 152.42658, 221.70702, 222.69040, 243.18828])"
   ]
  },
  {
   "cell_type": "code",
   "execution_count": null,
   "metadata": {},
   "outputs": [],
   "source": []
  },
  {
   "cell_type": "code",
   "execution_count": 25,
   "metadata": {},
   "outputs": [],
   "source": [
    "y = estimate(1.0, xx, yy, 5)"
   ]
  },
  {
   "cell_type": "code",
   "execution_count": 26,
   "metadata": {},
   "outputs": [
    {
     "data": {
      "text/plain": [
       "45.24113789347953"
      ]
     },
     "execution_count": 26,
     "metadata": {},
     "output_type": "execute_result"
    }
   ],
   "source": [
    "y"
   ]
  },
  {
   "cell_type": "code",
   "execution_count": null,
   "metadata": {},
   "outputs": [],
   "source": []
  }
 ],
 "metadata": {
  "kernelspec": {
   "display_name": "Python 3",
   "language": "python",
   "name": "python3"
  },
  "language_info": {
   "codemirror_mode": {
    "name": "ipython",
    "version": 3
   },
   "file_extension": ".py",
   "mimetype": "text/x-python",
   "name": "python",
   "nbconvert_exporter": "python",
   "pygments_lexer": "ipython3",
   "version": "3.6.6"
  }
 },
 "nbformat": 4,
 "nbformat_minor": 2
}
